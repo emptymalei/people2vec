{
 "cells": [
  {
   "cell_type": "code",
   "execution_count": 151,
   "metadata": {},
   "outputs": [],
   "source": [
    "from gensim.models.keyedvectors import KeyedVectors\n",
    "import pandas as pd\n",
    "import sys\n",
    "import re\n",
    "import csv\n",
    "import matplotlib.cm as cm\n",
    "from copy import deepcopy\n",
    "import numpy as np\n",
    "import random\n",
    "import pylab as plt\n",
    "import sklearn as skl\n",
    "from sklearn.cluster import KMeans\n",
    "from collections import defaultdict, Counter\n",
    "import torch\n",
    "from copy import deepcopy\n",
    "import torch.nn as nn\n",
    "import torch.nn.functional as F\n",
    "import torch.utils.data as dataset\n",
    "import torch.optim as optim\n",
    "import seaborn as sb\n",
    "import json\n",
    "import matplotlib.patches as patches\n",
    "import json\n",
    "import rdflib\n",
    "\n",
    "def flushPrint(d):\n",
    "    sys.stdout.write('\\r')\n",
    "    sys.stdout.write(str(d))\n",
    "    sys.stdout.flush()\n",
    "    \n",
    "def add_subplot_axes(ax,rect):\n",
    "    fig = plt.gcf()\n",
    "    box = ax.get_position()\n",
    "    width = box.width\n",
    "    height = box.height\n",
    "    inax_position  = ax.transAxes.transform(rect[0:2])\n",
    "    transFigure = fig.transFigure.inverted()\n",
    "    infig_position = transFigure.transform(inax_position)    \n",
    "    x = infig_position[0]\n",
    "    y = infig_position[1]\n",
    "    width *= rect[2]\n",
    "    height *= rect[3]  # <= Typo was here\n",
    "    subax = fig.add_axes([x,y,width,height])\n",
    "    x_labelsize = subax.get_xticklabels()[0].get_size()\n",
    "    y_labelsize = subax.get_yticklabels()[0].get_size()\n",
    "    x_labelsize *= rect[2]**0.5\n",
    "    y_labelsize *= rect[3]**0.5\n",
    "    subax.xaxis.set_tick_params(labelsize=x_labelsize)\n",
    "    subax.yaxis.set_tick_params(labelsize=y_labelsize)\n",
    "    return subax\n",
    "    \n",
    "# data downloaded from\n",
    "# https://github.com/kidehen/worldcup2014/blob/master/data\n",
    "# code recreated from \n",
    "# https://github.com/jimmywangheng/knowledge_representation_pytorch/blob/master/transE_pytorch.py"
   ]
  },
  {
   "cell_type": "markdown",
   "metadata": {},
   "source": [
    "# Importing data and construct triples"
   ]
  },
  {
   "cell_type": "code",
   "execution_count": 152,
   "metadata": {},
   "outputs": [
    {
     "data": {
      "text/plain": [
       "5411"
      ]
     },
     "execution_count": 152,
     "metadata": {},
     "output_type": "execute_result"
    }
   ],
   "source": [
    "g = rdflib.Graph()\n",
    "g.parse('/Users/lingfeiw/Documents/bigdata/worldcup2014-master/data.ttl',format=\"n3\")\n",
    "len(g)"
   ]
  },
  {
   "cell_type": "code",
   "execution_count": 153,
   "metadata": {},
   "outputs": [],
   "source": [
    "def cleanRDF(s): \n",
    "    if isinstance(s, rdflib.URIRef):\n",
    "        s=s.toPython().split('/')[-1]\n",
    "        if '#' in s:\n",
    "            s=s.split('#')[-1]\n",
    "        return s\n",
    "    elif isinstance(s, rdflib.Literal):\n",
    "        return s.toPython()\n",
    "    else:\n",
    "        pass\n",
    "\n",
    "relations=['age','hasPosition','isMemberOf'] # many-to-one cases\n",
    "data=[]\n",
    "for h, r, t in g:\n",
    "    h,r,t=list(map(cleanRDF,[h,r,t]))\n",
    "    if r in relations:\n",
    "        if r=='age':\n",
    "            r='isAgeOf'\n",
    "        data.append((h,r,t))\n",
    "    #if r=='member' and 'Stage' not in h and 'team' not in h:# group vs team, one-to-many \n",
    "    #    data.append((h,'groupMember',t))\n",
    "    \n",
    "entityDic={k:n for n,k in enumerate(set([j for i in data for j in [i[0],i[-1]]]))}\n",
    "relationDic={k:n for n,k in enumerate(set([i[1] for i in data]))}\n",
    "entityDic_={k:n for n,k in entityDic.items()}\n",
    "relationDic_={k:n for n,k in relationDic.items()}"
   ]
  },
  {
   "cell_type": "code",
   "execution_count": 154,
   "metadata": {},
   "outputs": [],
   "source": [
    "# functions to assign a type for each entity, only complex for this dataset\n",
    "types={}\n",
    "types_=defaultdict(lambda:[])\n",
    "for h, r, t in g:\n",
    "    h,r,t=list(map(cleanRDF,[h,r,t]))\n",
    "    if r=='type' and h in entityDic:\n",
    "        if t=='Group':\n",
    "            if 'team' in h:\n",
    "                types[h]='Team'\n",
    "                types_['Team'].append(h)\n",
    "            else:\n",
    "                continue\n",
    "        else:\n",
    "            types[h]=t\n",
    "            types_[t].append(h)\n",
    "for i in entityDic:\n",
    "    if i not in types:\n",
    "        if isinstance(i,int):\n",
    "            types[i]='age'\n",
    "            types_['age'].append(i)\n",
    "        else:\n",
    "            types[i]='position'\n",
    "            types_['position'].append(i)"
   ]
  },
  {
   "cell_type": "code",
   "execution_count": 69,
   "metadata": {},
   "outputs": [
    {
     "data": {
      "text/plain": [
       "dict_keys(['Person', 'Team', 'age', 'position'])"
      ]
     },
     "execution_count": 69,
     "metadata": {},
     "output_type": "execute_result"
    }
   ],
   "source": [
    "types_.keys()"
   ]
  },
  {
   "cell_type": "code",
   "execution_count": 70,
   "metadata": {},
   "outputs": [
    {
     "data": {
      "text/plain": [
       "{0: 'hasPosition', 1: 'isMemberOf', 2: 'isAgeOf'}"
      ]
     },
     "execution_count": 70,
     "metadata": {},
     "output_type": "execute_result"
    }
   ],
   "source": [
    "relationDic_"
   ]
  },
  {
   "cell_type": "code",
   "execution_count": 72,
   "metadata": {},
   "outputs": [
    {
     "data": {
      "text/plain": [
       "2207"
      ]
     },
     "execution_count": 72,
     "metadata": {},
     "output_type": "execute_result"
    }
   ],
   "source": [
    "len(data)"
   ]
  },
  {
   "cell_type": "code",
   "execution_count": 73,
   "metadata": {},
   "outputs": [
    {
     "data": {
      "text/plain": [
       "[('brayan-beckeles', 'hasPosition', 'Defender'),\n",
       " ('alexander-samedov', 'hasPosition', 'Forward'),\n",
       " ('alexandros-tziolis', 'isAgeOf', 29),\n",
       " ('carl-medjani', 'hasPosition', 'Defender'),\n",
       " ('patrick-pemberton', 'hasPosition', 'Goalkeeper'),\n",
       " ('victor-bernardez', 'isAgeOf', 32)]"
      ]
     },
     "execution_count": 73,
     "metadata": {},
     "output_type": "execute_result"
    }
   ],
   "source": [
    "data[:6]"
   ]
  },
  {
   "cell_type": "markdown",
   "metadata": {},
   "source": [
    "# Build and train TransE models"
   ]
  },
  {
   "cell_type": "code",
   "execution_count": 155,
   "metadata": {},
   "outputs": [],
   "source": [
    "class transE(nn.Module):\n",
    "\n",
    "    def __init__(self, entity_size, relation_size, embedding_size):\n",
    "        super(transE, self).__init__()\n",
    "\n",
    "        self.W_en = nn.Embedding(entity_size, embedding_size)\n",
    "        self.W_re = nn.Embedding(relation_size, embedding_size)\n",
    "\n",
    "    def forward(self, pos_h, pos_r,  pos_t, neg_h, neg_r, neg_t): \n",
    "        pos_h_e = self.W_en(pos_h)\n",
    "        pos_t_e = self.W_en(pos_t)\n",
    "        pos_r_e = self.W_re(pos_r)\n",
    "        neg_h_e = self.W_en(neg_h)\n",
    "        neg_t_e = self.W_en(neg_t)\n",
    "        neg_r_e = self.W_re(neg_r)\n",
    "            \n",
    "        posError = torch.sum((pos_h_e + pos_r_e - pos_t_e) ** 2)\n",
    "        negError = torch.sum((neg_h_e + neg_r_e - neg_t_e) ** 2)\n",
    "        return posError\n",
    "    \n",
    "# Split the tripleList into batches \n",
    "def getBatchList(tripleList, num_batches):\n",
    "    batchSize = len(tripleList) // num_batches\n",
    "    batchList = [0] * num_batches\n",
    "    for i in range(num_batches - 1):\n",
    "        batchList[i] = tripleList[i * batchSize : (i + 1) * batchSize]\n",
    "    batchList[num_batches - 1] = tripleList[(num_batches - 1) * batchSize : ]\n",
    "    return batchList\n",
    "\n",
    "# randomly generate negative samples by corrupting head or tail with equal probabilities,\n",
    "# without checking whether false negative samples exist.\n",
    "def getBatch(tripleList, entity_size):\n",
    "    newTripleList = [corrupt_head(triple, entity_size) if random.random() < 0.5 \n",
    "                     else corrupt_tail(triple, entity_size) for triple in tripleList]\n",
    "    ph, pt ,pr = list(zip(*tripleList))\n",
    "    nh, nt, nr = list(zip(*newTripleList))\n",
    "    return ph, pt, pr, nh, nt, nr\n",
    "\n",
    "def corrupt_head(triple, entity_size):\n",
    "    return (np.random.randint(entity_size),triple[1],triple[2])\n",
    "\n",
    "def corrupt_tail(triple, entity_size):\n",
    "    return (triple[0],triple[1],np.random.randint(entity_size))\n"
   ]
  },
  {
   "cell_type": "code",
   "execution_count": 61,
   "metadata": {},
   "outputs": [
    {
     "name": "stdout",
     "output_type": "stream",
     "text": [
      "Loss at epo 0: 6.02628239647641\n",
      "Loss at epo 100: 1.6372003248497324\n",
      "Loss at epo 200: 0.601685925420183\n",
      "Loss at epo 300: 0.233802539599012\n",
      "Loss at epo 400: 0.08786573872395538\n",
      "Loss at epo 500: 0.031616729041489745\n",
      "Loss at epo 600: 0.010983279456798448\n",
      "Loss at epo 700: 0.0037029689261423933\n",
      "Loss at epo 800: 0.0012086525653950163\n",
      "Loss at epo 900: 0.00036065848957786043\n"
     ]
    }
   ],
   "source": [
    "entity_size=len(entityDic)\n",
    "relation_size=len(relationDic)\n",
    "embedding_size=2\n",
    "#triples=list(zip(range(9),[0]*10,range(1,10)))\n",
    "triples= [(entityDic[i],relationDic[j],entityDic[k]) for i,j,k in data]\n",
    "nBatch=10\n",
    "trainBatchList=getBatchList(triples, nBatch)\n",
    "transe = transE(entity_size, relation_size, embedding_size)\n",
    "\n",
    "# training\n",
    "num_epochs = 1000\n",
    "learning_rate = 0.001\n",
    "optimizer = optim.Adam(transe.parameters(), lr=learning_rate)\n",
    "Loss=[]\n",
    "posEnData={}\n",
    "posReData={}\n",
    "for epo in range(num_epochs):\n",
    "    total_loss = 0\n",
    "    for batchList in trainBatchList:\n",
    "        optimizer.zero_grad()\n",
    "        pos_h_batch, pos_r_batch, pos_t_batch, neg_h_batch,neg_r_batch, neg_t_batch=getBatch(batchList,entity_size)\n",
    "        pos_h_batch = torch.LongTensor(pos_h_batch)\n",
    "        pos_t_batch = torch.LongTensor(pos_t_batch)\n",
    "        pos_r_batch = torch.LongTensor(pos_r_batch)\n",
    "        neg_h_batch = torch.LongTensor(neg_h_batch)\n",
    "        neg_t_batch = torch.LongTensor(neg_t_batch)\n",
    "        neg_r_batch = torch.LongTensor(neg_r_batch)\n",
    "        \n",
    "        loss = transe(pos_h_batch, pos_r_batch, pos_t_batch, neg_h_batch,neg_r_batch, neg_t_batch)\n",
    "    \n",
    "        total_loss += loss.item()\n",
    "        #transe.W_in.weight.data[0][0]=0# fix the position of \"9\"\n",
    "        #transe.W_in.weight.data[1][0]=0#\n",
    "        loss.backward()\n",
    "        optimizer.step()\n",
    "    if epo % 100 == 0:    \n",
    "        print(f'Loss at epo {epo}: {total_loss/len(triples)}')# print average loss within an epoch\n",
    "    posEnData[epo]=deepcopy(transe.W_en.weight.data.numpy())\n",
    "    posReData[epo]=deepcopy(transe.W_re.weight.data.numpy())\n",
    "    Loss.append(total_loss/len(triples))"
   ]
  },
  {
   "cell_type": "code",
   "execution_count": 62,
   "metadata": {},
   "outputs": [
    {
     "data": {
      "text/plain": [
       "Text(0, 0.5, 'Loss')"
      ]
     },
     "execution_count": 62,
     "metadata": {},
     "output_type": "execute_result"
    },
    {
     "data": {
      "image/png": "[encoded data removed]",
      "text/plain": [
       "<Figure size 432x288 with 1 Axes>"
      ]
     },
     "metadata": {
      "needs_background": "light"
     },
     "output_type": "display_data"
    }
   ],
   "source": [
    "plt.plot(Loss,color='RoyalBlue',marker='')\n",
    "plt.xlabel('N of epochs',fontsize=16)\n",
    "plt.ylabel('Loss',fontsize=16)"
   ]
  },
  {
   "cell_type": "markdown",
   "metadata": {},
   "source": [
    "# high dimension experiment"
   ]
  },
  {
   "cell_type": "code",
   "execution_count": 156,
   "metadata": {},
   "outputs": [
    {
     "name": "stdout",
     "output_type": "stream",
     "text": [
      "Loss at epo 0: 31.014405292464318\n",
      "Loss at epo 100: 9.357730452378087\n",
      "Loss at epo 200: 3.464234062163712\n",
      "Loss at epo 300: 1.3343480554813165\n",
      "Loss at epo 400: 0.4972055052328175\n",
      "Loss at epo 500: 0.16921189796022554\n",
      "Loss at epo 600: 0.0506518177711753\n",
      "Loss at epo 700: 0.01318809945063727\n",
      "Loss at epo 800: 0.0031113750358269555\n",
      "Loss at epo 900: 0.0007598057311613959\n"
     ]
    }
   ],
   "source": [
    "entity_size=len(entityDic)\n",
    "relation_size=len(relationDic)\n",
    "embedding_size=10\n",
    "#triples=list(zip(range(9),[0]*10,range(1,10)))\n",
    "triples= [(entityDic[i],relationDic[j],entityDic[k]) for i,j,k in data]\n",
    "nBatch=10\n",
    "trainBatchList=getBatchList(triples, nBatch)\n",
    "transe = transE(entity_size, relation_size, embedding_size)\n",
    "\n",
    "# training\n",
    "num_epochs = 1000\n",
    "learning_rate = 0.001\n",
    "optimizer = optim.Adam(transe.parameters(), lr=learning_rate)\n",
    "Loss=[]\n",
    "posEnData={}\n",
    "posReData={}\n",
    "for epo in range(num_epochs):\n",
    "    total_loss = 0\n",
    "    for batchList in trainBatchList:\n",
    "        optimizer.zero_grad()\n",
    "        pos_h_batch, pos_r_batch, pos_t_batch, neg_h_batch,neg_r_batch, neg_t_batch=getBatch(batchList,entity_size)\n",
    "        pos_h_batch = torch.LongTensor(pos_h_batch)\n",
    "        pos_t_batch = torch.LongTensor(pos_t_batch)\n",
    "        pos_r_batch = torch.LongTensor(pos_r_batch)\n",
    "        neg_h_batch = torch.LongTensor(neg_h_batch)\n",
    "        neg_t_batch = torch.LongTensor(neg_t_batch)\n",
    "        neg_r_batch = torch.LongTensor(neg_r_batch)\n",
    "        \n",
    "        loss = transe(pos_h_batch, pos_r_batch, pos_t_batch, neg_h_batch,neg_r_batch, neg_t_batch)\n",
    "    \n",
    "        total_loss += loss.item()\n",
    "        #transe.W_in.weight.data[0][0]=0# fix the position of \"9\"\n",
    "        #transe.W_in.weight.data[1][0]=0#\n",
    "        loss.backward()\n",
    "        optimizer.step()\n",
    "    if epo % 100 == 0:    \n",
    "        print(f'Loss at epo {epo}: {total_loss/len(triples)}')# print average loss within an epoch\n",
    "    posEnData[epo]=deepcopy(transe.W_en.weight.data.numpy())\n",
    "    posReData[epo]=deepcopy(transe.W_re.weight.data.numpy())\n",
    "    Loss.append(total_loss/len(triples))"
   ]
  },
  {
   "cell_type": "code",
   "execution_count": 157,
   "metadata": {},
   "outputs": [
    {
     "data": {
      "text/plain": [
       "Text(0, 0.5, 'Loss')"
      ]
     },
     "execution_count": 157,
     "metadata": {},
     "output_type": "execute_result"
    },
    {
     "data": {
      "image/png": "[encoded data removed]",
      "text/plain": [
       "<Figure size 432x288 with 1 Axes>"
      ]
     },
     "metadata": {
      "needs_background": "light"
     },
     "output_type": "display_data"
    }
   ],
   "source": [
    "plt.plot(Loss,color='RoyalBlue',marker='')\n",
    "plt.xlabel('N of epochs',fontsize=16)\n",
    "plt.ylabel('Loss',fontsize=16)"
   ]
  },
  {
   "cell_type": "code",
   "execution_count": null,
   "metadata": {},
   "outputs": [],
   "source": []
  },
  {
   "cell_type": "markdown",
   "metadata": {},
   "source": [
    "# visualize results"
   ]
  },
  {
   "cell_type": "code",
   "execution_count": 159,
   "metadata": {},
   "outputs": [],
   "source": [
    "colorMap={k:n for n,k in enumerate(types_.keys())}\n",
    "relationColor={'isMemberOf':1,'isAgeOf':2,'hasPosition':3}# match type color\n",
    "entityColors={i:colorMap[types[i]] for i in entityDic}\n",
    "messi=[i for i in data if 'lionel-messi' in i[0]]\n",
    "markers=['o','^','D','s']"
   ]
  },
  {
   "cell_type": "code",
   "execution_count": 149,
   "metadata": {},
   "outputs": [
    {
     "data": {
      "image/png": "[encoded data removed]",
      "text/plain": [
       "<Figure size 720x720 with 2 Axes>"
      ]
     },
     "metadata": {},
     "output_type": "display_data"
    }
   ],
   "source": [
    "#posEn=dict(zip(entityDic_.values(),transe.W_en.weight.data.numpy()))\n",
    "#posRe=dict(zip(relationDic_.values(),transe.W_re.weight.data.numpy()))\n",
    "maxl=3# zoom in over time \n",
    "minl=1\n",
    "#epo=num_epochs-1\n",
    "epo=0\n",
    "posEn=dict(zip(entityDic_.values(),posEnData[epo]))\n",
    "posRe=dict(zip(relationDic_.values(),posReData[epo]))\n",
    "\n",
    "fig = plt.figure(figsize=(10, 10),facecolor='white')\n",
    "cp = cm.get_cmap('tab10',len(types_))\n",
    "ax = fig.add_subplot(111)\n",
    "for t in types_:\n",
    "    idx=list(types_.keys()).index(t)\n",
    "    x,y=np.array([posEn[i] for i in types_[t]]).T\n",
    "    s=5\n",
    "    if idx>0:#non person\n",
    "        s=10\n",
    "    plt.plot(x,y,linestyle='',marker=markers[idx],markersize=s,markeredgecolor='white',\n",
    "             markerfacecolor=cp(idx),label=t,alpha=0.7)\n",
    "#\n",
    "i='lionel-messi'\n",
    "xi,yi=posEn[i]\n",
    "idx=list(types_.keys()).index(types[i])\n",
    "plt.text(xi,yi,i,va='center',ha='center',size=20,color=cp(idx))\n",
    "\n",
    "for h,r,t in messi:\n",
    "    xh,yh=posEn[h]\n",
    "    xr,yr=posRe[r]\n",
    "    xt,yt=posEn[t]\n",
    "    plt.arrow(xh, yh,xr, yr, linewidth=2,length_includes_head=True,\n",
    "          head_width=0.05, head_length=0.1,color=cp(relationColor[r]))\n",
    "    plt.text((xh+xh+xr)/2,(yh+yh+yr)/2,r,va='center',ha='center',size=16,color='k')\n",
    "    plt.text(xt,yt,t,va='center',ha='center',color=cp(relationColor[r]),size=16)\n",
    "    idx=list(types_.keys()).index(types[t])\n",
    "plt.xticks([-3,-2,-1,0,1,2,3])\n",
    "plt.yticks([-3,-2,-1,0,1,2,3])\n",
    "ax.tick_params(axis='both', which='major', labelsize=14)\n",
    "    \n",
    "\n",
    "plt.legend(loc=2,frameon=False,markerscale=1.5,fontsize=16)\n",
    "#deltal=(maxl-minl)*epo/num_epochs\n",
    "#nl=maxl-deltal\n",
    "#nl=minl+nl**3/maxl**2\n",
    "#plt.xlim(-nl,nl)\n",
    "#plt.ylim(-nl,nl) \n",
    "nl=3\n",
    "plt.xlim(-nl,nl)\n",
    "plt.ylim(-nl,nl) \n",
    "plt.tight_layout()\n",
    "#\n",
    "subax = add_subplot_axes(ax,[.75,.75,0.2,0.2])\n",
    "#epo=num_epochs-1\n",
    "for r in posRe:\n",
    "    xr,yr=posRe[r]\n",
    "    subax.arrow(0, 0,xr, yr, linewidth=1.5,length_includes_head=True,\n",
    "          head_width=0.2, head_length=0.3,color=cp(relationColor[r]))\n",
    "nl=2.2\n",
    "plt.xlim(-nl,nl)\n",
    "plt.ylim(-nl,nl)\n",
    "plt.xticks([-2,0,2])\n",
    "plt.yticks([-2,0,2])\n",
    "subax.tick_params(axis='both', which='major', labelsize=12)\n",
    "#\n"
   ]
  },
  {
   "cell_type": "code",
   "execution_count": 81,
   "metadata": {},
   "outputs": [
    {
     "data": {
      "text/plain": [
       "{'isMemberOf': array([ 0.16400461, -0.7035457 ], dtype=float32),\n",
       " 'hasPosition': array([ 0.6055704 , -0.38227686], dtype=float32),\n",
       " 'isAgeOf': array([0.5882386, 0.5302453], dtype=float32)}"
      ]
     },
     "execution_count": 81,
     "metadata": {},
     "output_type": "execute_result"
    }
   ],
   "source": [
    "posRe"
   ]
  },
  {
   "cell_type": "markdown",
   "metadata": {},
   "source": [
    "# visualize high dimensional results"
   ]
  },
  {
   "cell_type": "code",
   "execution_count": 169,
   "metadata": {},
   "outputs": [],
   "source": [
    "from sklearn.decomposition import PCA\n",
    "epo=num_epochs-1\n",
    "posEn=dict(zip(entityDic_.values(),PCA(n_components=2).fit_transform(posEnData[epo])))\n",
    "posRe=dict(zip(relationDic_.values(),PCA(n_components=2).fit_transform(posReData[epo])))"
   ]
  },
  {
   "cell_type": "code",
   "execution_count": 171,
   "metadata": {},
   "outputs": [
    {
     "data": {
      "image/png": "[encoded data removed]",
      "text/plain": [
       "<Figure size 720x720 with 1 Axes>"
      ]
     },
     "metadata": {},
     "output_type": "display_data"
    }
   ],
   "source": [
    "fig = plt.figure(figsize=(10, 10),facecolor='white')\n",
    "cp = cm.get_cmap('tab10',len(types_))\n",
    "ax = fig.add_subplot(111)\n",
    "for t in types_:\n",
    "    idx=list(types_.keys()).index(t)\n",
    "    x,y=np.array([posEn[i] for i in types_[t]]).T\n",
    "    s=5\n",
    "    if idx>0:#non person\n",
    "        s=10\n",
    "    plt.plot(x,y,linestyle='',marker=markers[idx],markersize=s,markeredgecolor='white',\n",
    "             markerfacecolor=cp(idx),label=t,alpha=0.7)\n",
    "#\n",
    "i='lionel-messi'\n",
    "xi,yi=posEn[i]\n",
    "idx=list(types_.keys()).index(types[i])\n",
    "plt.text(xi,yi,i,va='center',ha='center',size=20,color=cp(idx))\n",
    "\n",
    "for h,r,t in messi:\n",
    "    xh,yh=posEn[h]\n",
    "    xr,yr=posRe[r]\n",
    "    xt,yt=posEn[t]\n",
    "    plt.arrow(xh, yh,xr, yr, linewidth=2,length_includes_head=True,\n",
    "          head_width=0.05, head_length=0.1,color=cp(relationColor[r]))\n",
    "    plt.text((xh+xh+xr)/2,(yh+yh+yr)/2,r,va='center',ha='center',size=16,color='k')\n",
    "    plt.text(xt,yt,t,va='center',ha='center',color=cp(relationColor[r]),size=16)\n",
    "    idx=list(types_.keys()).index(types[t])\n",
    "plt.xticks([-3,-2,-1,0,1,2,3])\n",
    "plt.yticks([-3,-2,-1,0,1,2,3])\n",
    "ax.tick_params(axis='both', which='major', labelsize=14)\n",
    "    \n",
    "\n",
    "plt.legend(loc=2,frameon=False,markerscale=1.5,fontsize=16)\n",
    "#deltal=(maxl-minl)*epo/num_epochs\n",
    "#nl=maxl-deltal\n",
    "#nl=minl+nl**3/maxl**2\n",
    "#plt.xlim(-nl,nl)\n",
    "#plt.ylim(-nl,nl) \n",
    "nl=3\n",
    "plt.xlim(-nl,nl)\n",
    "plt.ylim(-nl,nl) \n",
    "plt.tight_layout()\n",
    "#\n",
    "subax = add_subplot_axes(ax,[.75,.75,0.2,0.2])\n",
    "#epo=num_epochs-1\n",
    "for r in posRe:\n",
    "    xr,yr=posRe[r]\n",
    "    subax.arrow(0, 0,xr, yr, linewidth=1.5,length_includes_head=True,\n",
    "          head_width=0.2, head_length=0.3,color=cp(relationColor[r]))\n",
    "nl=2.2\n",
    "plt.xlim(-nl,nl)\n",
    "plt.ylim(-nl,nl)\n",
    "plt.xticks([-2,0,2])\n",
    "plt.yticks([-2,0,2])\n",
    "subax.tick_params(axis='both', which='major', labelsize=12)\n",
    "#\n"
   ]
  },
  {
   "cell_type": "code",
   "execution_count": null,
   "metadata": {},
   "outputs": [],
   "source": []
  },
  {
   "cell_type": "code",
   "execution_count": null,
   "metadata": {},
   "outputs": [],
   "source": []
  },
  {
   "cell_type": "markdown",
   "metadata": {},
   "source": [
    "# make videos"
   ]
  },
  {
   "cell_type": "code",
   "execution_count": 150,
   "metadata": {},
   "outputs": [
    {
     "name": "stdout",
     "output_type": "stream",
     "text": [
      "999"
     ]
    }
   ],
   "source": [
    "maxl=3# zoom in over time \n",
    "minl=1\n",
    "for epo in range(num_epochs):\n",
    "    flushPrint(epo)\n",
    "    posEn=dict(zip(entityDic_.values(),posEnData[epo]))\n",
    "    posRe=dict(zip(relationDic_.values(),posReData[epo]))\n",
    "    #\n",
    "    fig = plt.figure(figsize=(10, 10),facecolor='white')\n",
    "    cp = cm.get_cmap('tab10',len(types_))\n",
    "    ax = fig.add_subplot(111)\n",
    "    for t in types_:\n",
    "        idx=list(types_.keys()).index(t)\n",
    "        x,y=np.array([posEn[i] for i in types_[t]]).T\n",
    "        s=5\n",
    "        if idx>0:#non person\n",
    "            s=10\n",
    "        plt.plot(x,y,linestyle='',marker=markers[idx],markersize=s,markeredgecolor='white',\n",
    "                 markerfacecolor=cp(idx),label=t,alpha=0.7)\n",
    "    #\n",
    "    i='lionel-messi'\n",
    "    xi,yi=posEn[i]\n",
    "    idx=list(types_.keys()).index(types[i])\n",
    "    plt.text(xi,yi,i,va='center',ha='center',size=20,color=cp(idx))\n",
    "\n",
    "    for h,r,t in messi:\n",
    "        xh,yh=posEn[h]\n",
    "        xr,yr=posRe[r]\n",
    "        xt,yt=posEn[t]\n",
    "        plt.arrow(xh, yh,xr, yr, linewidth=2,length_includes_head=True,\n",
    "              head_width=0.05, head_length=0.1,color=cp(relationColor[r]))\n",
    "        plt.text((xh+xh+xr)/2,(yh+yh+yr)/2,r,va='center',ha='center',size=16,color='k')\n",
    "        plt.text(xt,yt,t,va='center',ha='center',color=cp(relationColor[r]),size=16)\n",
    "        idx=list(types_.keys()).index(types[t])\n",
    "\n",
    "    plt.xticks([-3,-2,-1,0,1,2,3])\n",
    "    plt.yticks([-3,-2,-1,0,1,2,3])\n",
    "    ax.tick_params(axis='both', which='major', labelsize=14)\n",
    "        \n",
    "        \n",
    "    plt.legend(loc=2,frameon=False,markerscale=1.5,fontsize=16) \n",
    "    # zoom in over time \n",
    "    deltal=(maxl-minl)*epo/num_epochs\n",
    "    nl=maxl-deltal\n",
    "    nl=minl+nl**3/maxl**2\n",
    "    nl=3# fix the axis of the main figure\n",
    "    plt.xlim(-nl,nl)\n",
    "    plt.ylim(-nl,nl)  \n",
    "    plt.tight_layout()\n",
    "\n",
    "    #\n",
    "    subax = add_subplot_axes(ax,[.75,.75,0.2,0.2])\n",
    "    #epo=num_epochs-1\n",
    "    for r in posRe:\n",
    "        xr,yr=posRe[r]\n",
    "        subax.arrow(0, 0,xr, yr, linewidth=1.5,length_includes_head=True,\n",
    "              head_width=0.2, head_length=0.3,color=cp(relationColor[r]))\n",
    "    nl=2.2\n",
    "    plt.xlim(-nl,nl)\n",
    "    plt.ylim(-nl,nl)\n",
    "    plt.xticks([-2,0,2])\n",
    "    plt.yticks([-2,0,2])\n",
    "    subax.tick_params(axis='both', which='major', labelsize=12)\n",
    "    \n",
    "    \n",
    "    plt.savefig(\"/Users/lingfeiw/Dropbox/ScienceInAction/StudyGroup/transEwordcupAnnimation_fixed/image_{:03d}.png\".\\\n",
    "                format(epo))\n",
    "    plt.close()"
   ]
  },
  {
   "cell_type": "code",
   "execution_count": null,
   "metadata": {},
   "outputs": [],
   "source": [
    "'''\n",
    "# cd to the folder with pngs and run:\n",
    "# \"-r 60\" is the framerate\n",
    "ffmpeg -r 60 -f image2 -pattern_type glob -i \"*?png\" -vcodec libx264 -crf 20 -pix_fmt yuv420p /Users/lingfeiw/Dropbox/ScienceInAction/StudyGroup/animation.mp4\n",
    "'''"
   ]
  },
  {
   "cell_type": "code",
   "execution_count": 299,
   "metadata": {},
   "outputs": [
    {
     "data": {
      "text/plain": [
       "16.666666666666668"
      ]
     },
     "execution_count": 299,
     "metadata": {},
     "output_type": "execute_result"
    }
   ],
   "source": [
    "1000/60"
   ]
  },
  {
   "cell_type": "code",
   "execution_count": null,
   "metadata": {},
   "outputs": [],
   "source": []
  }
 ],
 "metadata": {
  "kernelspec": {
   "display_name": "pytorch",
   "language": "python",
   "name": "pytorch"
  },
  "language_info": {
   "codemirror_mode": {
    "name": "ipython",
    "version": 3
   },
   "file_extension": ".py",
   "mimetype": "text/x-python",
   "name": "python",
   "nbconvert_exporter": "python",
   "pygments_lexer": "ipython3",
   "version": "3.7.2"
  }
 },
 "nbformat": 4,
 "nbformat_minor": 2
}
